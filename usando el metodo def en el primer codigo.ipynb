{
  "nbformat": 4,
  "nbformat_minor": 0,
  "metadata": {
    "colab": {
      "name": "pedir un numero y dar la tabla de multiplicar de ese numero.ipynb",
      "provenance": [],
      "authorship_tag": "ABX9TyMBwMZfa+huNYHVWb4vYVK3",
      "include_colab_link": true
    },
    "kernelspec": {
      "name": "python3",
      "display_name": "Python 3"
    },
    "language_info": {
      "name": "python"
    }
  },
  "cells": [
    {
      "cell_type": "markdown",
      "metadata": {
        "id": "view-in-github",
        "colab_type": "text"
      },
      "source": [
        "<a href=\"https://colab.research.google.com/github/luismenross27/prueba/blob/main/usando%20el%20metodo%20def%20en%20el%20primer%20codigo.ipynb\" target=\"_parent\"><img src=\"https://colab.research.google.com/assets/colab-badge.svg\" alt=\"Open In Colab\"/></a>"
      ]
    },
    {
      "cell_type": "markdown",
      "source": [
        "primer programa hola mundo solicitamos el nombre del usuario y lo saludamos, Elaborado por: luis mendoza 26/08/22"
      ],
      "metadata": {
        "id": "lDuYqdHTkMGG"
      }
    },
    {
      "cell_type": "code",
      "execution_count": null,
      "metadata": {
        "id": "wnyDN_hoNrUf"
      },
      "outputs": [],
      "source": [
        "nalumno = input(\"Ingresa tu nombre::.\")\n",
        "print(\"HOLA\",nalumno, \"Como Estas?!!\")"
      ]
    },
    {
      "cell_type": "markdown",
      "source": [
        "pedir un numero y dar la tabla de multiplicar de ese numero, Elaborado por: luis mendoza 26/08/22"
      ],
      "metadata": {
        "id": "RrS3b1rJmk72"
      }
    },
    {
      "cell_type": "code",
      "source": [
        "i = int(input(\"Escribe un numero del 0 a 10::.\"))\n",
        "for x in range(1, 11):\n",
        "  print(i, \"x\", x, \"=\", x*i)"
      ],
      "metadata": {
        "colab": {
          "base_uri": "https://localhost:8080/"
        },
        "id": "UA_zNmQbmkVR",
        "outputId": "7ebd879e-b67c-4da3-d587-58bc8fdc9de2"
      },
      "execution_count": 1,
      "outputs": [
        {
          "output_type": "stream",
          "name": "stdout",
          "text": [
            "Escribe un numero del 0 a 10::.2\n",
            "2 x 1 = 2\n",
            "2 x 2 = 4\n",
            "2 x 3 = 6\n",
            "2 x 4 = 8\n",
            "2 x 5 = 10\n",
            "2 x 6 = 12\n",
            "2 x 7 = 14\n",
            "2 x 8 = 16\n",
            "2 x 9 = 18\n",
            "2 x 10 = 20\n"
          ]
        }
      ]
    },
    {
      "cell_type": "markdown",
      "source": [
        "usando el metodo def en el primer codigo, Elaborado por: luis mendoza 26/08/22"
      ],
      "metadata": {
        "id": "uv2iv4Uhnjfg"
      }
    },
    {
      "cell_type": "code",
      "source": [
        "def holaMundo():\n",
        "    nom = input(\"escribe tu nombre::.\")\n",
        "    print(\"hola\", nom, \"Como estas?\")\n",
        "    \n",
        "holaMundo()"
      ],
      "metadata": {
        "id": "Ck62DbcWnjI5"
      },
      "execution_count": null,
      "outputs": []
    }
  ]
}