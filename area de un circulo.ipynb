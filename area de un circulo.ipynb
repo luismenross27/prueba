{
  "nbformat": 4,
  "nbformat_minor": 0,
  "metadata": {
    "colab": {
      "provenance": [],
      "authorship_tag": "ABX9TyPv3EgiexUfNUHdATAJeoxq",
      "include_colab_link": true
    },
    "kernelspec": {
      "name": "python3",
      "display_name": "Python 3"
    },
    "language_info": {
      "name": "python"
    }
  },
  "cells": [
    {
      "cell_type": "markdown",
      "metadata": {
        "id": "view-in-github",
        "colab_type": "text"
      },
      "source": [
        "<a href=\"https://colab.research.google.com/github/luismenross27/prueba/blob/main/area%20de%20un%20circulo.ipynb\" target=\"_parent\"><img src=\"https://colab.research.google.com/assets/colab-badge.svg\" alt=\"Open In Colab\"/></a>"
      ]
    },
    {
      "cell_type": "markdown",
      "source": [
        "primer programa hola mundo solicitamos el nombre del usuario y lo saludamos, Elaborado por: luis mendoza 26/08/22"
      ],
      "metadata": {
        "id": "lDuYqdHTkMGG"
      }
    },
    {
      "cell_type": "code",
      "execution_count": null,
      "metadata": {
        "id": "wnyDN_hoNrUf"
      },
      "outputs": [],
      "source": [
        "nalumno = input(\"Ingresa tu nombre::.\")\n",
        "print(\"HOLA\",nalumno, \"Como Estas?!!\")"
      ]
    },
    {
      "cell_type": "markdown",
      "source": [
        "pedir un numero y dar la tabla de multiplicar de ese numero, Elaborado por: luis mendoza 26/08/22"
      ],
      "metadata": {
        "id": "RrS3b1rJmk72"
      }
    },
    {
      "cell_type": "code",
      "source": [
        "i = int(input(\"Escribe un numero del 0 a 10::.\"))\n",
        "for x in range(1, 11):\n",
        "  print(i, \"x\", x, \"=\", x*i)"
      ],
      "metadata": {
        "colab": {
          "base_uri": "https://localhost:8080/"
        },
        "id": "UA_zNmQbmkVR",
        "outputId": "7ebd879e-b67c-4da3-d587-58bc8fdc9de2"
      },
      "execution_count": null,
      "outputs": [
        {
          "output_type": "stream",
          "name": "stdout",
          "text": [
            "Escribe un numero del 0 a 10::.2\n",
            "2 x 1 = 2\n",
            "2 x 2 = 4\n",
            "2 x 3 = 6\n",
            "2 x 4 = 8\n",
            "2 x 5 = 10\n",
            "2 x 6 = 12\n",
            "2 x 7 = 14\n",
            "2 x 8 = 16\n",
            "2 x 9 = 18\n",
            "2 x 10 = 20\n"
          ]
        }
      ]
    },
    {
      "cell_type": "markdown",
      "source": [
        "usando el metodo def en el primer codigo, Elaborado por: luis mendoza 26/08/22"
      ],
      "metadata": {
        "id": "uv2iv4Uhnjfg"
      }
    },
    {
      "cell_type": "code",
      "source": [
        "def holaMundo():\n",
        "    nom = input(\"escribe tu nombre::.\")\n",
        "    print(\"hola\", nom, \"Como estas?\")\n",
        "    \n",
        "holaMundo()"
      ],
      "metadata": {
        "id": "Ck62DbcWnjI5"
      },
      "execution_count": null,
      "outputs": []
    },
    {
      "cell_type": "markdown",
      "source": [
        "def paso de parametros  Elaborado por: luis mendoza 26/08/22"
      ],
      "metadata": {
        "id": "mzY6RoAwpTbu"
      }
    },
    {
      "cell_type": "code",
      "source": [
        "def saludo(nom):\n",
        "    print(\"hola\", nom, \"como estas?\")\n",
        "    \n",
        "saludo(\"luis rosas\")\n",
        "##--------------------------------\n",
        "nom = input(\"Escribe tu nombre::.\")\n",
        "saludo(nom)\n"
      ],
      "metadata": {
        "id": "jxrkECD1pTIy"
      },
      "execution_count": null,
      "outputs": []
    },
    {
      "cell_type": "markdown",
      "source": [
        "tabla de multiplicar de un numero con ciclo while, Elaborado por: luis mendoza 26/08/22 "
      ],
      "metadata": {
        "id": "ZEAeV4nQxz9t"
      }
    },
    {
      "cell_type": "code",
      "source": [
        "i = 1\n",
        "m= int (input(\"Imprir tabla:\"))\n",
        "while (i!=11):\n",
        "   print(m, \"x\", i, \"=\", m*i)\n",
        "   i= i+1"
      ],
      "metadata": {
        "id": "CdifgGslxyMN"
      },
      "execution_count": null,
      "outputs": []
    },
    {
      "cell_type": "markdown",
      "source": [
        "Calculo de area de circulo, Elaborado por: luis mendoza "
      ],
      "metadata": {
        "id": "auh2uAFgCf2V"
      }
    },
    {
      "cell_type": "code",
      "source": [
        "def areaCirculo(radio):\n",
        "  resultado = (3.1416 * radio**2)\n",
        "  return resultado\n",
        "dato = int (input (\"Ingresa el valor del radio: \"))\n",
        "area = areaCirculo (dato)\n",
        "print ((\"El resultado es: \"), str(area))"
      ],
      "metadata": {
        "id": "sa3bzxH9CwiR"
      },
      "execution_count": null,
      "outputs": []
    },
    {
      "cell_type": "markdown",
      "source": [
        "Calculo de area de Rectangulo, Elaborado por: luis mendoza"
      ],
      "metadata": {
        "id": "XfqqO6ShCzMt"
      }
    },
    {
      "cell_type": "code",
      "source": [
        "def areaRectangulo(base, altura):\n",
        "  resultado = (base * altura)\n",
        "  return resultado\n",
        "dato = int (input (\"Ingresa el valor de la base: \"))\n",
        "dato1 = int (input (\"Ingresa el valor de la altura: \"))\n",
        "area = areaRectangulo (dato, dato1)\n",
        "print ((\"El resultado del area es: \"), str(area))"
      ],
      "metadata": {
        "id": "ReKoA4VmC7RX"
      },
      "execution_count": null,
      "outputs": []
    },
    {
      "cell_type": "markdown",
      "source": [
        "Calculo de area de Trapecio, Elaborado por: luis mendoza"
      ],
      "metadata": {
        "id": "Tu7n7ePJC99u"
      }
    },
    {
      "cell_type": "code",
      "source": [
        "def areaTrapecio(baseA, baseB, altura):\n",
        "  resultado = ((baseA + baseB) * altura)/2\n",
        "  return resultado\n",
        "dato = int (input (\"Ingresa el valor de la base 1: \"))\n",
        "dato1 = int (input (\"Ingresa el valor de la base 2: \"))\n",
        "dato2 = int (input (\"Ingresa el valor de la altura: \"))\n",
        "area = areaTrapecio (dato, dato1, dato2)\n",
        "print ((\"El resultado del area es: \"), str(area))"
      ],
      "metadata": {
        "id": "KqxTb4O8DFXM"
      },
      "execution_count": null,
      "outputs": []
    },
    {
      "cell_type": "markdown",
      "source": [
        "Calculo de area de Triangulo, Elaborado por: luis mendoza"
      ],
      "metadata": {
        "id": "tXbGWsaODKtu"
      }
    },
    {
      "cell_type": "code",
      "source": [
        "def areaTriangulo(base, altura):\n",
        "  resultado = (base * altura)/2\n",
        "  return resultado\n",
        "dato = int (input (\"Ingresa el valor de la base: \"))\n",
        "dato1 = int (input (\"Ingresa el valor de la altura: \"))\n",
        "area = areaTriangulo (dato, dato1)\n",
        "print ((\"El resultado del area es: \"), str(area))"
      ],
      "metadata": {
        "id": "h2BPfx-YDNW8"
      },
      "execution_count": null,
      "outputs": []
    }
  ]
}